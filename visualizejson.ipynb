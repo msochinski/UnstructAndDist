{
 "cells": [
  {
   "cell_type": "code",
   "execution_count": 1,
   "metadata": {},
   "outputs": [],
   "source": [
    "import sys\n",
    "sys.path += ['../..']\n",
    "\n",
    "import os\n",
    "\n",
    "import tarfile\n",
    "import json\n",
    "\n",
    "import matplotlib.pylab as plt\n",
    "import re"
   ]
  },
  {
   "cell_type": "code",
   "execution_count": 2,
   "metadata": {},
   "outputs": [],
   "source": [
    "PATH_TO_CWL_DATA = r'/home/vagrant/work/week7/cwl-data/data/structured/'\n"
   ]
  },
  {
   "cell_type": "code",
   "execution_count": 3,
   "metadata": {
    "scrolled": true
   },
   "outputs": [
    {
     "data": {
      "text/plain": [
       "['structured-2018-04-19-relegation.tar.gz',\n",
       " 'structured-2018-04-08-proleague1.tar.gz',\n",
       " 'structured-2018-06-17-anaheim.tar.gz',\n",
       " 'structured-2018-03-11-atlanta.tar.gz',\n",
       " 'structured-2018-04-22-seattle.tar.gz',\n",
       " 'structured-2018-07-29-proleague2.tar.gz',\n",
       " 'structured-2018-04-01-birmingham.tar.gz',\n",
       " 'structured-2018-01-14-neworleans.tar.gz',\n",
       " 'structured-2018-08-19-champs.tar.gz']"
      ]
     },
     "execution_count": 3,
     "metadata": {},
     "output_type": "execute_result"
    }
   ],
   "source": [
    "mylist = []\n",
    "for file in os.listdir(PATH_TO_CWL_DATA):\n",
    "    if file.endswith(\"tar.gz\"):\n",
    "        mylist.append(file)\n",
    "mylist"
   ]
  },
  {
   "cell_type": "code",
   "execution_count": 4,
   "metadata": {},
   "outputs": [
    {
     "data": {
      "text/plain": [
       "['structured-2018-04-19-relegation/',\n",
       " 'structured-2018-04-08-proleague1/',\n",
       " 'structured-2018-06-17-anaheim/',\n",
       " 'structured-2018-03-11-atlanta/',\n",
       " 'structured-2018-04-22-seattle/',\n",
       " 'structured-2018-07-29-proleague2/',\n",
       " 'structured-2018-04-01-birmingham/',\n",
       " 'structured-2018-01-14-neworleans/',\n",
       " 'structured-2018-08-19-champs/']"
      ]
     },
     "execution_count": 4,
     "metadata": {},
     "output_type": "execute_result"
    }
   ],
   "source": [
    "for i in range(len(mylist)):\n",
    "    mylist[i] = re.sub(\".tar.gz\", \"/\", mylist[i])\n",
    "mylist\n"
   ]
  },
  {
   "cell_type": "code",
   "execution_count": 8,
   "metadata": {},
   "outputs": [
    {
     "data": {
      "text/plain": [
       "['structured-2018-04-19-relegation/',\n",
       " 'structured-2018-04-08-proleague1/',\n",
       " 'structured-2018-06-17-anaheim/',\n",
       " 'structured-2018-04-22-seattle/',\n",
       " 'structured-2018-07-29-proleague2/',\n",
       " 'structured-2018-04-01-birmingham/',\n",
       " 'structured-2018-01-14-neworleans/',\n",
       " 'structured-2018-08-19-champs/']"
      ]
     },
     "execution_count": 8,
     "metadata": {},
     "output_type": "execute_result"
    }
   ],
   "source": [
    "del mylist[3]\n",
    "mylist"
   ]
  },
  {
   "cell_type": "code",
   "execution_count": 9,
   "metadata": {},
   "outputs": [],
   "source": [
    "PATH_TO_WW2_MAPS = '/home/vagrant/work/week7/cwl-data//maps/ww2/'\n",
    "\n",
    "MAP_IMAGES = {\n",
    "    'Aachen': 'aachen.png',\n",
    "    'Ardennes Forest': 'ardennes_forest.png',\n",
    "    'Flak Tower': 'flaktower.png',\n",
    "    'Gibraltar': 'gibraltar.png',\n",
    "    'London Docks': 'london_docks.png',\n",
    "    'Sainte Marie du Mont': 'sainte_marie_du_mont.png' ,\n",
    "    'USS Texas': 'uss_texas.png',\n",
    "    'Valkyrie': 'valkyrie.png'\n",
    "}"
   ]
  },
  {
   "cell_type": "code",
   "execution_count": 10,
   "metadata": {},
   "outputs": [],
   "source": [
    "import gc"
   ]
  },
  {
   "cell_type": "code",
   "execution_count": null,
   "metadata": {},
   "outputs": [
    {
     "name": "stdout",
     "output_type": "stream",
     "text": [
      "structured-2018-04-19-relegation/\n",
      "structured-2018-04-08-proleague1/\n",
      "structured-2018-06-17-anaheim/\n",
      "structured-2018-04-22-seattle/\n",
      "structured-2018-07-29-proleague2/\n",
      "structured-2018-04-01-birmingham/\n",
      "structured-2018-01-14-neworleans/\n",
      "structured-2018-08-19-champs/\n"
     ]
    }
   ],
   "source": [
    "from matplotlib.backends.backend_agg import FigureCanvasAgg as FigureCanvas\n",
    "from matplotlib.figure import Figure\n",
    "\n",
    "for EVENT in mylist:\n",
    "    print(EVENT)\n",
    "    for MATCH in os.listdir(PATH_TO_CWL_DATA + EVENT):\n",
    "        \n",
    "        with open('/home/vagrant/work/week7/cwl-data/data/structured/{}{}'.format(EVENT, MATCH), 'r') as match_file:\n",
    "            # get match data\n",
    "            match = json.load(match_file)\n",
    "\n",
    "            spawn_xpos = []\n",
    "            spawn_ypos = []\n",
    "            death_xpos = []\n",
    "            death_ypos = []\n",
    "    \n",
    "            # get pos data\n",
    "            for evt in match['events']:\n",
    "                if evt['type'] == 'spawn':\n",
    "                    spawn_xpos.append( evt['data']['pos']['x'] )\n",
    "                    spawn_ypos.append( evt['data']['pos']['y'] )\n",
    "                if evt['type'] == 'death':\n",
    "                    death_xpos.append( evt['data']['pos']['x'] )\n",
    "                    death_ypos.append( evt['data']['pos']['y'] )\n",
    "\n",
    "            # get map image\n",
    "            try:\n",
    "                map_file_name = PATH_TO_WW2_MAPS + MAP_IMAGES[match['map']]\n",
    "                map_image = plt.imread(map_file_name)\n",
    "            except KeyError:\n",
    "                map_image = 'Unknown Location'\n",
    "\n",
    "            # create figure\n",
    "            #fig, ax = plt.subplots(1,1)\n",
    "            fig = Figure()  \n",
    "            FigureCanvas(fig)\n",
    "            ax = fig.subplots(1,1)\n",
    "                                    \n",
    "            fig.set_figheight(15)\n",
    "            fig.set_figwidth(15)\n",
    "                                    \n",
    "            # plot map                       \n",
    "            ax.imshow(map_image)\n",
    "            ax.set_facecolor((210/255.0, 210/255.0, 210/255.0))\n",
    "                                    \n",
    "            # plot spawns\n",
    "            ax.scatter(spawn_xpos, spawn_ypos, color='cyan')\n",
    "            # plot deaths\n",
    "            ax.scatter(death_xpos, death_ypos, color='red')\n",
    "            # plot travel vectors\n",
    "            #for i in range( len(kill_pos['x']) ):\n",
    "                #plt.plot([spawn_pos['x'][i], death_pos['x'][i]], [spawn_pos['y'][i], death_pos['y'][i]], color='white')\n",
    "            # set title\n",
    "            ax.set_title('{} ({})'.format(match['map'], match['mode']))\n",
    "            fig.savefig(MATCH + '.png')\n",
    "            plt.cla() \n",
    "            plt.clf()\n",
    "            plt.close()\n",
    "            gc.collect()"
   ]
  },
  {
   "cell_type": "code",
   "execution_count": null,
   "metadata": {},
   "outputs": [],
   "source": []
  }
 ],
 "metadata": {
  "kernelspec": {
   "display_name": "Python 3",
   "language": "python",
   "name": "python3"
  },
  "language_info": {
   "codemirror_mode": {
    "name": "ipython",
    "version": 3
   },
   "file_extension": ".py",
   "mimetype": "text/x-python",
   "name": "python",
   "nbconvert_exporter": "python",
   "pygments_lexer": "ipython3",
   "version": "3.7.2"
  }
 },
 "nbformat": 4,
 "nbformat_minor": 2
}
